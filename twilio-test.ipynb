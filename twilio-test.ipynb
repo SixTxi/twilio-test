{
 "cells": [
  {
   "cell_type": "code",
   "execution_count": null,
   "id": "b5a126ab-f566-406e-b724-8d12be0588b9",
   "metadata": {},
   "outputs": [],
   "source": [
    "# 示例：Twilio Verify API测试代码（无需完整项目）\n",
    "from twilio.rest import Client\n",
    "\n",
    "account_sid = 'ACxx'\n",
    "auth_token = 'xx'\n",
    "client = Client(account_sid, auth_token)\n",
    "\n",
    "verification = client.verify.services('VAxx') \\\n",
    "    .verifications \\\n",
    "    .create(to='+1234567890', channel='sms')\n",
    "print(verification.status)"
   ]
  }
 ],
 "metadata": {
  "kernelspec": {
   "display_name": "Python 3 (ipykernel)",
   "language": "python",
   "name": "python3"
  },
  "language_info": {
   "codemirror_mode": {
    "name": "ipython",
    "version": 3
   },
   "file_extension": ".py",
   "mimetype": "text/x-python",
   "name": "python",
   "nbconvert_exporter": "python",
   "pygments_lexer": "ipython3",
   "version": "3.12.7"
  }
 },
 "nbformat": 4,
 "nbformat_minor": 5
}
